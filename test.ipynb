{
 "cells": [
  {
   "cell_type": "code",
   "execution_count": 4,
   "metadata": {},
   "outputs": [
    {
     "name": "stdout",
     "output_type": "stream",
     "text": [
      "Some uses of ultrasound are:\n",
      "\n",
      "1. Cleaning parts located in hard-to-reach places.\n",
      "2. Detecting cracks and flaws in metal blocks.\n",
      "3. Echocardiography (forming the image of the heart).\n",
      "4. Getting images of internal organs of the human body (using an ultrasound scanner).\n",
      "5. Cleaning objects such as spiral tubes, odd shaped parts, and electronic components.\n"
     ]
    }
   ],
   "source": [
    "from pinecone import Pinecone\n",
    "import pickle\n",
    "from rag.pinecone_query import PineconeRetriever\n",
    "from rag.pipeline import RAG_Piepline\n",
    "from config import PINECONE_API_KEY, GROQ_API_KEY, LANGCHAIN_API_KEY\n",
    "\n",
    "pc = Pinecone(api_key=PINECONE_API_KEY)\n",
    "index_name = \"textbook-rag\"\n",
    "mapping_path = \"data/chunks/mapping.pickle\"\n",
    "embedding_mdl = \"multilingual-e5-large\"\n",
    "k = 3\n",
    "\n",
    "with open(mapping_path, 'rb') as f:\n",
    "    mapping = pickle.load(f)\n",
    "\n",
    "retriever = PineconeRetriever(pc=pc, index_name=index_name, embedding_mdl=embedding_mdl, k=k, mapping=mapping)\n",
    "rag = RAG_Piepline(retriever, GROQ_API_KEY, LANGCHAIN_API_KEY)\n",
    "\n",
    "reply = rag.get_response(\"List some uses of ultrasound\")\n",
    "print(reply)"
   ]
  }
 ],
 "metadata": {
  "kernelspec": {
   "display_name": "env",
   "language": "python",
   "name": "python3"
  },
  "language_info": {
   "codemirror_mode": {
    "name": "ipython",
    "version": 3
   },
   "file_extension": ".py",
   "mimetype": "text/x-python",
   "name": "python",
   "nbconvert_exporter": "python",
   "pygments_lexer": "ipython3",
   "version": "3.10.12"
  }
 },
 "nbformat": 4,
 "nbformat_minor": 2
}
