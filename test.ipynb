{
 "cells": [
  {
   "cell_type": "code",
   "execution_count": 2,
   "metadata": {},
   "outputs": [],
   "source": [
    "from pinecone import Pinecone\n",
    "import pickle\n",
    "from rag.pinecone_query import PineconeRetriever\n",
    "from rag.pipeline import RAG_Piepline\n",
    "from config import PINECONE_API_KEY, GROQ_API_KEY, LANGCHAIN_API_KEY\n",
    "\n",
    "pc = Pinecone(api_key=PINECONE_API_KEY)\n",
    "index_name = \"textbook-rag\"\n",
    "mapping_path = \"data/chunks/mapping.pickle\"\n",
    "embedding_mdl = \"multilingual-e5-large\"\n",
    "k = 3\n",
    "\n",
    "with open(mapping_path, 'rb') as f:\n",
    "    mapping = pickle.load(f)\n",
    "\n",
    "retriever = PineconeRetriever(pc=pc, index_name=index_name, embedding_mdl=embedding_mdl, k=k, mapping=mapping)\n",
    "rag = RAG_Piepline(retriever, GROQ_API_KEY, LANGCHAIN_API_KEY)"
   ]
  },
  {
   "cell_type": "code",
   "execution_count": 3,
   "metadata": {},
   "outputs": [
    {
     "name": "stdout",
     "output_type": "stream",
     "text": [
      "Some uses of ultrasound are:\n",
      "\n",
      "1. Cleaning parts located in hard-to-reach places.\n",
      "2. Detecting cracks and flaws in metal blocks.\n",
      "3. Echocardiography (forming the image of the heart).\n",
      "4. Getting images of internal organs of the human body.\n",
      "5. Detecting abnormalities, such as stones or tumours in different organs.\n"
     ]
    }
   ],
   "source": [
    "reply = rag.get_response(\"List some uses of ultrasound\")\n",
    "print(reply)"
   ]
  },
  {
   "cell_type": "markdown",
   "metadata": {},
   "source": [
    "agent"
   ]
  },
  {
   "cell_type": "code",
   "execution_count": 5,
   "metadata": {},
   "outputs": [
    {
     "name": "stdout",
     "output_type": "stream",
     "text": [
      "0\n",
      "[]\n",
      "The color of a banana can vary depending on its stage of ripeness. A green banana is unripe and its color will be green. As it ripens, the banana turns yellow. A ripe banana is typically yellow, although some varieties may have spots of brown or black. Overripe bananas can become very dark brown or black. So, the common color of a banana is yellow.\n"
     ]
    }
   ],
   "source": [
    "from agent.agent import Agent\n",
    "from rag.pinecone_query import PineconeRetriever\n",
    "from pinecone import Pinecone\n",
    "import pickle\n",
    "from config import PINECONE_API_KEY, GROQ_API_KEY, LANGCHAIN_API_KEY\n",
    "\n",
    "pc = Pinecone(api_key=PINECONE_API_KEY)\n",
    "index_name = \"textbook-rag\"\n",
    "mapping_path = \"data/chunks/mapping.pickle\"\n",
    "embedding_mdl = \"multilingual-e5-large\"\n",
    "k = 3\n",
    "\n",
    "with open(mapping_path, 'rb') as f:\n",
    "    mapping = pickle.load(f)\n",
    "\n",
    "retriever = PineconeRetriever(pc=pc, index_name=index_name, embedding_mdl=embedding_mdl, k=k, mapping=mapping)\n",
    "agent = Agent(GROQ_API_KEY, LANGCHAIN_API_KEY, retriever, model=\"mixtral-8x7b-32768\")\n",
    "reply = agent.query(\"Whats the color of banana\")\n",
    "print(reply)"
   ]
  },
  {
   "cell_type": "markdown",
   "metadata": {},
   "source": [
    "img stuff"
   ]
  },
  {
   "cell_type": "code",
   "execution_count": 4,
   "metadata": {},
   "outputs": [
    {
     "name": "stdout",
     "output_type": "stream",
     "text": [
      "Based on the image, here is a 4-line description for the given low and high pitched sounds:\n",
      "\n",
      "The image graphically illustrates the relationship between sound pitch and its corresponding wave shapes. A low pitched sound is depicted as a wave with a low amplitude and a long wavelength, resulting from low frequency oscillations. In contrast, a high pitched sound is represented by a wave with high amplitude and short wavelength due to its high frequency oscillations in the waveform.\n"
     ]
    }
   ],
   "source": [
    "from config import PINECONE_API_KEY, GROQ_API_KEY, LANGCHAIN_API_KEY\n",
    "from database_creation.image_data import get_image_caption\n",
    "\n",
    "resp = get_image_caption(\"data/img_data/img8.png\", \"Low pitch sound has low frequency and high pitch of sound has high frequency\", GROQ_API_KEY)\n",
    "print(resp)"
   ]
  },
  {
   "cell_type": "code",
   "execution_count": 1,
   "metadata": {},
   "outputs": [
    {
     "name": "stdout",
     "output_type": "stream",
     "text": [
      "[1, 2, 3, 4, 5, 6, 7, 8, 9, 10, 11, 12, 13, 14, 15]\n",
      "['Vibrating tuning fork just touching the suspended table tennis ball. A vibrant, luminous orange dot is emanating from the tip of a vibrating tuning fork positioned just above a suspended table tennis ball.', 'One of the prongs of the vibrating tuning fork touching the water surface. In this image, a vibrating tuning fork with one prong touching the surface of a glass of water, causes circular waves on the water surface.', \"Both the prongs of the vibrating tuning fork dipped in water. The image shows a tuning fork submerged in water, with movement in both prongs. The water is contained in a glass cup. The fork's prongs are visible and appear to be vibrating, creating a ripple effect in the water.\", 'A vibrating object creating a series of compressions (C) and rarefactions (R) in the medium. A series of compressions (C) and rarefactions (R) in a medium, caused by a vibrating object, illustrating the formation of sound waves.', 'Longitudinal wave in a slinky. A long, simple spring laid on top of other spring coils creates a two-dimensional representation of a longitudinal wave, with the compression of the top spring illustrating the form of the wave caused by a variety of phenomena.', 'Image of H.R. Hertz. He is German inventor whose famous experiments on electromagnetic radiation laid the foundation for the theory of light.', 'Sound propagates as density or pressure variations as shown in (a) and (b) and (c) represents graphically the density and pressure variations. A graphic illustrating sound propagation through variations in density and pressure, including a diagram of the process (a), a detailed representation of the variations (b), and a graphical representation of the density and pressure variations (c).', 'Low pitch sound has low frequency and high pitch of sound has high frequency. The image shows the wave shape for a low pitched sound and high pitched sound, with the low pitch sound having greater magnitude and the high pitch sound having a more compressed shape.', 'Soft sound has small amplitude and louder sound has large amplitude. A waveform with small amplitude oscillations represents soft sound, while a waveform with large amplitude oscillations represents louder sound.', 'Reflection of sound. The image shows a wedge-shaped barrier in a soundproof chamber, with waves of sound measuring normal and early returning reflections. A clock is seen before and after the barrier, and an ear is depicted after the barrier.', 'A megaphone and a horn. Megaphone and A horn being used to amplify noise. There is a blue megaphone and a red horn.', \"Stethoscope. A doctor is holding a stethoscope to listen to a young boy's heartbeat.\", 'Sound board used in a big hall. The image depicts a large sound board positioned in the middle of a spacious hall, likely designed to amplify sound distribution across the room. This sound board is likely serving to enhance aural experiences for a fair-sized audience.', 'Curved ceiling of a conference hall. Round roof ceiling of a conference hall with arched design and lines of white ceiling tiles on the wall, accompanied by multiple arched lines.', 'Ultrasound is reflected back from the defective locations inside a metal block. A metal block with a defect has an ultrasound reflecting back from it.']\n"
     ]
    }
   ],
   "source": [
    "from config import PINECONE_API_KEY, GROQ_API_KEY, LANGCHAIN_API_KEY\n",
    "from database_creation.image_data import upsert_images\n",
    "\n",
    "image_list_path = \"data/img_data/index.txt\"\n",
    "image_path = \"data/img_data/imgs/\"\n",
    "\n",
    "upsert_images(None, None, image_list_path, image_path, GROQ_API_KEY)"
   ]
  }
 ],
 "metadata": {
  "kernelspec": {
   "display_name": "env",
   "language": "python",
   "name": "python3"
  },
  "language_info": {
   "codemirror_mode": {
    "name": "ipython",
    "version": 3
   },
   "file_extension": ".py",
   "mimetype": "text/x-python",
   "name": "python",
   "nbconvert_exporter": "python",
   "pygments_lexer": "ipython3",
   "version": "3.10.12"
  }
 },
 "nbformat": 4,
 "nbformat_minor": 2
}
