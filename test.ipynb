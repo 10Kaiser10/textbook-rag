{
 "cells": [
  {
   "cell_type": "code",
   "execution_count": 5,
   "metadata": {},
   "outputs": [],
   "source": [
    "from pinecone import Pinecone\n",
    "import pickle\n",
    "from rag.pinecone_query import PineconeRetriever\n",
    "from rag.pipeline import RAG_Piepline\n",
    "from config import PINECONE_API_KEY, GROQ_API_KEY, LANGCHAIN_API_KEY\n",
    "\n",
    "pc = Pinecone(api_key=PINECONE_API_KEY)\n",
    "index_name = \"textbook-rag\"\n",
    "mapping_path = \"data/chunks/mapping.pickle\"\n",
    "embedding_mdl = \"multilingual-e5-large\"\n",
    "k = 3\n",
    "\n",
    "with open(mapping_path, 'rb') as f:\n",
    "    mapping = pickle.load(f)\n",
    "\n",
    "retriever = PineconeRetriever(pc=pc, index_name=index_name, embedding_mdl=embedding_mdl, k=k, mapping=mapping)\n",
    "rag = RAG_Piepline(retriever, GROQ_API_KEY, LANGCHAIN_API_KEY)"
   ]
  },
  {
   "cell_type": "code",
   "execution_count": 6,
   "metadata": {},
   "outputs": [
    {
     "name": "stdout",
     "output_type": "stream",
     "text": [
      "Some uses of ultrasound mentioned in the context are:\n",
      "\n",
      "1. Cleaning parts located in hard-to-reach places.\n",
      "2. Detecting cracks and flaws in metal blocks.\n",
      "3. Echocardiography (forming the image of the heart).\n",
      "4. Getting images of internal organs of the human body (using an ultrasound scanner).\n",
      "5. Detecting abnormalities in organs such as stones or tumours.\n"
     ]
    }
   ],
   "source": [
    "reply = rag.get_response(\"List some uses of ultrasound\")\n",
    "print(reply)"
   ]
  },
  {
   "cell_type": "code",
   "execution_count": 7,
   "metadata": {},
   "outputs": [
    {
     "name": "stdout",
     "output_type": "stream",
     "text": [
      "The information about X-ray is not present in the provided context.\n"
     ]
    }
   ],
   "source": [
    "reply = rag.get_response(\"List some uses of xray\")\n",
    "print(reply)"
   ]
  }
 ],
 "metadata": {
  "kernelspec": {
   "display_name": "env",
   "language": "python",
   "name": "python3"
  },
  "language_info": {
   "codemirror_mode": {
    "name": "ipython",
    "version": 3
   },
   "file_extension": ".py",
   "mimetype": "text/x-python",
   "name": "python",
   "nbconvert_exporter": "python",
   "pygments_lexer": "ipython3",
   "version": "3.10.12"
  }
 },
 "nbformat": 4,
 "nbformat_minor": 2
}
